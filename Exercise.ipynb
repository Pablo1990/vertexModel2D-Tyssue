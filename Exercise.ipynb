{
 "cells": [
  {
   "cell_type": "code",
   "execution_count": 1,
   "id": "cf9a37a2-2170-4ea5-946f-6ac36fc50e5d",
   "metadata": {},
   "outputs": [],
   "source": [
    "from tyssue import Sheet\n",
    "\n",
    "from tyssue import PlanarGeometry as geom\n",
    "\n",
    "from tyssue.draw import sheet_view"
   ]
  },
  {
   "cell_type": "code",
   "execution_count": 2,
   "id": "67b0560a-71cb-4d50-b0cf-b4754ec99f87",
   "metadata": {},
   "outputs": [
    {
     "name": "stdout",
     "output_type": "stream",
     "text": [
      "C++ extension are not available for this version\n"
     ]
    }
   ],
   "source": [
    "cellmap = Sheet.planar_sheet_2d('2DCellmap', 7, 7, 1, 1)\n",
    "\n",
    "geom.update_all(cellmap)"
   ]
  },
  {
   "cell_type": "code",
   "execution_count": 3,
   "id": "77335610-fc32-49e7-917f-1f08863c2e6f",
   "metadata": {},
   "outputs": [
    {
     "name": "stderr",
     "output_type": "stream",
     "text": [
      "/Users/v_lachina/opt/anaconda3/envs/VertexModel/lib/python3.9/site-packages/tyssue/topology/base_topology.py:168: FutureWarning: The frame.append method is deprecated and will be removed from pandas in a future version. Use pandas.concat instead.\n",
      "  eptm.edge_df = eptm.edge_df.append(face_edges.iloc[0:1], ignore_index=True)\n",
      "/Users/v_lachina/opt/anaconda3/envs/VertexModel/lib/python3.9/site-packages/tyssue/topology/base_topology.py:168: FutureWarning: The frame.append method is deprecated and will be removed from pandas in a future version. Use pandas.concat instead.\n",
      "  eptm.edge_df = eptm.edge_df.append(face_edges.iloc[0:1], ignore_index=True)\n",
      "/Users/v_lachina/opt/anaconda3/envs/VertexModel/lib/python3.9/site-packages/tyssue/topology/base_topology.py:168: FutureWarning: The frame.append method is deprecated and will be removed from pandas in a future version. Use pandas.concat instead.\n",
      "  eptm.edge_df = eptm.edge_df.append(face_edges.iloc[0:1], ignore_index=True)\n",
      "/Users/v_lachina/opt/anaconda3/envs/VertexModel/lib/python3.9/site-packages/tyssue/topology/base_topology.py:168: FutureWarning: The frame.append method is deprecated and will be removed from pandas in a future version. Use pandas.concat instead.\n",
      "  eptm.edge_df = eptm.edge_df.append(face_edges.iloc[0:1], ignore_index=True)\n",
      "/Users/v_lachina/opt/anaconda3/envs/VertexModel/lib/python3.9/site-packages/tyssue/topology/base_topology.py:168: FutureWarning: The frame.append method is deprecated and will be removed from pandas in a future version. Use pandas.concat instead.\n",
      "  eptm.edge_df = eptm.edge_df.append(face_edges.iloc[0:1], ignore_index=True)\n",
      "/Users/v_lachina/opt/anaconda3/envs/VertexModel/lib/python3.9/site-packages/tyssue/topology/base_topology.py:168: FutureWarning: The frame.append method is deprecated and will be removed from pandas in a future version. Use pandas.concat instead.\n",
      "  eptm.edge_df = eptm.edge_df.append(face_edges.iloc[0:1], ignore_index=True)\n",
      "/Users/v_lachina/opt/anaconda3/envs/VertexModel/lib/python3.9/site-packages/tyssue/topology/base_topology.py:168: FutureWarning: The frame.append method is deprecated and will be removed from pandas in a future version. Use pandas.concat instead.\n",
      "  eptm.edge_df = eptm.edge_df.append(face_edges.iloc[0:1], ignore_index=True)\n",
      "/Users/v_lachina/opt/anaconda3/envs/VertexModel/lib/python3.9/site-packages/tyssue/topology/base_topology.py:168: FutureWarning: The frame.append method is deprecated and will be removed from pandas in a future version. Use pandas.concat instead.\n",
      "  eptm.edge_df = eptm.edge_df.append(face_edges.iloc[0:1], ignore_index=True)\n",
      "/Users/v_lachina/opt/anaconda3/envs/VertexModel/lib/python3.9/site-packages/tyssue/topology/base_topology.py:168: FutureWarning: The frame.append method is deprecated and will be removed from pandas in a future version. Use pandas.concat instead.\n",
      "  eptm.edge_df = eptm.edge_df.append(face_edges.iloc[0:1], ignore_index=True)\n",
      "/Users/v_lachina/opt/anaconda3/envs/VertexModel/lib/python3.9/site-packages/tyssue/topology/base_topology.py:168: FutureWarning: The frame.append method is deprecated and will be removed from pandas in a future version. Use pandas.concat instead.\n",
      "  eptm.edge_df = eptm.edge_df.append(face_edges.iloc[0:1], ignore_index=True)\n",
      "/Users/v_lachina/opt/anaconda3/envs/VertexModel/lib/python3.9/site-packages/tyssue/topology/base_topology.py:168: FutureWarning: The frame.append method is deprecated and will be removed from pandas in a future version. Use pandas.concat instead.\n",
      "  eptm.edge_df = eptm.edge_df.append(face_edges.iloc[0:1], ignore_index=True)\n",
      "/Users/v_lachina/opt/anaconda3/envs/VertexModel/lib/python3.9/site-packages/tyssue/topology/base_topology.py:168: FutureWarning: The frame.append method is deprecated and will be removed from pandas in a future version. Use pandas.concat instead.\n",
      "  eptm.edge_df = eptm.edge_df.append(face_edges.iloc[0:1], ignore_index=True)\n",
      "/Users/v_lachina/opt/anaconda3/envs/VertexModel/lib/python3.9/site-packages/tyssue/topology/base_topology.py:168: FutureWarning: The frame.append method is deprecated and will be removed from pandas in a future version. Use pandas.concat instead.\n",
      "  eptm.edge_df = eptm.edge_df.append(face_edges.iloc[0:1], ignore_index=True)\n",
      "/Users/v_lachina/opt/anaconda3/envs/VertexModel/lib/python3.9/site-packages/tyssue/topology/base_topology.py:168: FutureWarning: The frame.append method is deprecated and will be removed from pandas in a future version. Use pandas.concat instead.\n",
      "  eptm.edge_df = eptm.edge_df.append(face_edges.iloc[0:1], ignore_index=True)\n",
      "/Users/v_lachina/opt/anaconda3/envs/VertexModel/lib/python3.9/site-packages/tyssue/topology/base_topology.py:168: FutureWarning: The frame.append method is deprecated and will be removed from pandas in a future version. Use pandas.concat instead.\n",
      "  eptm.edge_df = eptm.edge_df.append(face_edges.iloc[0:1], ignore_index=True)\n"
     ]
    },
    {
     "data": {
      "image/png": "[encoded data removed]",
      "text/plain": [
       "<Figure size 720x720 with 1 Axes>"
      ]
     },
     "metadata": {
      "needs_background": "light"
     },
     "output_type": "display_data"
    }
   ],
   "source": [
    "fig, axis = sheet_view(cellmap)\n",
    "\n",
    "fig.set_size_inches(10, 10)\n",
    "\n",
    "cellmap.sanitize ( trim_borders=True, order_edges=True )\n",
    "\n",
    "geom.update_all(cellmap)"
   ]
  },
  {
   "cell_type": "code",
   "execution_count": 4,
   "id": "f962a5ed-1e0e-4653-82a4-57fa1d02b07b",
   "metadata": {},
   "outputs": [
    {
     "name": "stdout",
     "output_type": "stream",
     "text": [
      "vert dataset has values (58, 3)\n",
      "edge dataset has values (156, 20)\n",
      "face dataset has values (30, 7)\n"
     ]
    }
   ],
   "source": [
    "for element, data in cellmap.datasets.items():\n",
    "    print(f\"{element} dataset has values {data.shape}\")"
   ]
  },
  {
   "cell_type": "code",
   "execution_count": 5,
   "id": "1f632660-ba62-46b8-af71-ba5b4cada728",
   "metadata": {},
   "outputs": [],
   "source": [
    "spec = {\n",
    "    \"vert\": {\n",
    "        \"x\": 0.0,\n",
    "        \"y\": 0.0,\n",
    "        \"active\": True\n",
    "    },\n",
    "    \"edge\": {\n",
    "        \"tension\": 0.0,\n",
    "        \"length\": 1,\n",
    "    },\n",
    "    \"face\": {\n",
    "        \"area\": 0.0,\n",
    "        \"alive\": True,\n",
    "    },\n",
    "}"
   ]
  },
  {
   "cell_type": "code",
   "execution_count": 6,
   "id": "9e216e41-df59-4742-9f6c-4d992ec2a393",
   "metadata": {},
   "outputs": [
    {
     "data": {
      "text/plain": [
       "edge\n",
       "0    1.0\n",
       "1    1.0\n",
       "2    1.0\n",
       "3    1.0\n",
       "4    1.0\n",
       "Name: tension, dtype: float64"
      ]
     },
     "execution_count": 6,
     "metadata": {},
     "output_type": "execute_result"
    }
   ],
   "source": [
    "cellmap.update_specs({\"edge\": {\"tension\": 1.0}})\n",
    "cellmap.edge_df['tension'].head()"
   ]
  },
  {
   "cell_type": "code",
   "execution_count": 7,
   "id": "74a5869b-3111-4f81-afdd-ce96f6a39c15",
   "metadata": {},
   "outputs": [
    {
     "name": "stdout",
     "output_type": "stream",
     "text": [
      "Faces associated with the first edges:\n",
      "edge\n",
      "0    0\n",
      "1    0\n",
      "2    0\n",
      "3    0\n",
      "4    1\n",
      "Name: face, dtype: int64\n",
      "\n",
      "\n"
     ]
    }
   ],
   "source": [
    "print('Faces associated with the first edges:')\n",
    "print(cellmap.edge_df['face'].head())\n",
    "print('\\n')\n",
    "\n",
    "sixth_edge = cellmap.edge_df.loc[6, 'face']"
   ]
  },
  {
   "cell_type": "code",
   "execution_count": 8,
   "id": "9f1bf481-16d9-402a-88cd-6073bcef64ce",
   "metadata": {},
   "outputs": [
    {
     "name": "stdout",
     "output_type": "stream",
     "text": [
      "Area of cell # 4:\n",
      "0.875\n"
     ]
    }
   ],
   "source": [
    "print('Area of cell # {}:'.format(int(sixth_edge)))\n",
    "print(cellmap.face_df.loc[sixth_edge, 'area'])"
   ]
  },
  {
   "cell_type": "code",
   "execution_count": 9,
   "id": "e4588ed0-1e1c-468c-995c-6b996ff2bb7b",
   "metadata": {},
   "outputs": [
    {
     "name": "stdout",
     "output_type": "stream",
     "text": [
      "Upcasted areas over the edges:\n",
      "edge\n",
      "0    0.500\n",
      "1    0.500\n",
      "2    0.500\n",
      "3    0.500\n",
      "4    0.875\n",
      "Name: area, dtype: float64\n"
     ]
    }
   ],
   "source": [
    "print('Upcasted areas over the edges:')\n",
    "print(cellmap.upcast_face(cellmap.face_df['area']).head())"
   ]
  },
  {
   "cell_type": "code",
   "execution_count": 10,
   "id": "39cb004b-a844-489b-a614-6c0d5440db63",
   "metadata": {},
   "outputs": [],
   "source": [
    "import matplotlib.pyplot as plt\n",
    "%matplotlib inline\n",
    "import pandas as pd\n",
    "import numpy as np\n",
    "\n",
    "from tyssue import Sheet\n",
    "from tyssue import PlanarGeometry\n",
    "from tyssue.generation import generate_ring\n",
    "from tyssue import config\n",
    "from tyssue.draw import sheet_view"
   ]
  },
  {
   "cell_type": "code",
   "execution_count": 11,
   "id": "6f96759a-4f60-4ddc-aa1b-55da263c83c3",
   "metadata": {},
   "outputs": [
    {
     "name": "stderr",
     "output_type": "stream",
     "text": [
      "/Users/v_lachina/opt/anaconda3/envs/VertexModel/lib/python3.9/site-packages/tyssue/topology/base_topology.py:168: FutureWarning: The frame.append method is deprecated and will be removed from pandas in a future version. Use pandas.concat instead.\n",
      "  eptm.edge_df = eptm.edge_df.append(face_edges.iloc[0:1], ignore_index=True)\n",
      "/Users/v_lachina/opt/anaconda3/envs/VertexModel/lib/python3.9/site-packages/tyssue/topology/base_topology.py:168: FutureWarning: The frame.append method is deprecated and will be removed from pandas in a future version. Use pandas.concat instead.\n",
      "  eptm.edge_df = eptm.edge_df.append(face_edges.iloc[0:1], ignore_index=True)\n",
      "/Users/v_lachina/opt/anaconda3/envs/VertexModel/lib/python3.9/site-packages/tyssue/topology/base_topology.py:168: FutureWarning: The frame.append method is deprecated and will be removed from pandas in a future version. Use pandas.concat instead.\n",
      "  eptm.edge_df = eptm.edge_df.append(face_edges.iloc[0:1], ignore_index=True)\n",
      "/Users/v_lachina/opt/anaconda3/envs/VertexModel/lib/python3.9/site-packages/tyssue/topology/base_topology.py:168: FutureWarning: The frame.append method is deprecated and will be removed from pandas in a future version. Use pandas.concat instead.\n",
      "  eptm.edge_df = eptm.edge_df.append(face_edges.iloc[0:1], ignore_index=True)\n",
      "/Users/v_lachina/opt/anaconda3/envs/VertexModel/lib/python3.9/site-packages/tyssue/topology/base_topology.py:168: FutureWarning: The frame.append method is deprecated and will be removed from pandas in a future version. Use pandas.concat instead.\n",
      "  eptm.edge_df = eptm.edge_df.append(face_edges.iloc[0:1], ignore_index=True)\n",
      "/Users/v_lachina/opt/anaconda3/envs/VertexModel/lib/python3.9/site-packages/tyssue/topology/base_topology.py:168: FutureWarning: The frame.append method is deprecated and will be removed from pandas in a future version. Use pandas.concat instead.\n",
      "  eptm.edge_df = eptm.edge_df.append(face_edges.iloc[0:1], ignore_index=True)\n",
      "/Users/v_lachina/opt/anaconda3/envs/VertexModel/lib/python3.9/site-packages/tyssue/topology/base_topology.py:168: FutureWarning: The frame.append method is deprecated and will be removed from pandas in a future version. Use pandas.concat instead.\n",
      "  eptm.edge_df = eptm.edge_df.append(face_edges.iloc[0:1], ignore_index=True)\n",
      "/Users/v_lachina/opt/anaconda3/envs/VertexModel/lib/python3.9/site-packages/tyssue/topology/base_topology.py:168: FutureWarning: The frame.append method is deprecated and will be removed from pandas in a future version. Use pandas.concat instead.\n",
      "  eptm.edge_df = eptm.edge_df.append(face_edges.iloc[0:1], ignore_index=True)\n",
      "/Users/v_lachina/opt/anaconda3/envs/VertexModel/lib/python3.9/site-packages/tyssue/topology/base_topology.py:168: FutureWarning: The frame.append method is deprecated and will be removed from pandas in a future version. Use pandas.concat instead.\n",
      "  eptm.edge_df = eptm.edge_df.append(face_edges.iloc[0:1], ignore_index=True)\n",
      "/Users/v_lachina/opt/anaconda3/envs/VertexModel/lib/python3.9/site-packages/tyssue/topology/base_topology.py:168: FutureWarning: The frame.append method is deprecated and will be removed from pandas in a future version. Use pandas.concat instead.\n",
      "  eptm.edge_df = eptm.edge_df.append(face_edges.iloc[0:1], ignore_index=True)\n",
      "/Users/v_lachina/opt/anaconda3/envs/VertexModel/lib/python3.9/site-packages/tyssue/topology/base_topology.py:168: FutureWarning: The frame.append method is deprecated and will be removed from pandas in a future version. Use pandas.concat instead.\n",
      "  eptm.edge_df = eptm.edge_df.append(face_edges.iloc[0:1], ignore_index=True)\n",
      "/Users/v_lachina/opt/anaconda3/envs/VertexModel/lib/python3.9/site-packages/tyssue/topology/base_topology.py:168: FutureWarning: The frame.append method is deprecated and will be removed from pandas in a future version. Use pandas.concat instead.\n",
      "  eptm.edge_df = eptm.edge_df.append(face_edges.iloc[0:1], ignore_index=True)\n"
     ]
    },
    {
     "data": {
      "image/png": "[encoded data removed]",
      "text/plain": [
       "<Figure size 432x288 with 1 Axes>"
      ]
     },
     "metadata": {
      "needs_background": "light"
     },
     "output_type": "display_data"
    }
   ],
   "source": [
    "sheet_2d = Sheet.planar_sheet_2d('planar', nx=6, ny=6, \n",
    "                                 distx=1, disty=1)\n",
    "\n",
    "sheet_2d.sanitize(trim_borders=True, order_edges=True)\n",
    "fig, ax = sheet_view(sheet_2d)"
   ]
  },
  {
   "cell_type": "code",
   "execution_count": 19,
   "id": "f4f97f05-1418-434f-8ae9-100c6c6948b7",
   "metadata": {},
   "outputs": [
    {
     "name": "stdout",
     "output_type": "stream",
     "text": [
      "Sheet center of mass :\n",
      "x    0.0\n",
      "y    0.0\n",
      "dtype: float64\n"
     ]
    }
   ],
   "source": [
    "centered2Dmap = sheet_2d.vert_df[sheet_2d.coords].mean(axis=0)\n",
    "print(\"Sheet center of mass :\")\n",
    "print(centered2Dmap)"
   ]
  },
  {
   "cell_type": "code",
   "execution_count": 13,
   "id": "d1e9ba9d-74e8-4618-9c87-272881a9e330",
   "metadata": {},
   "outputs": [
    {
     "name": "stdout",
     "output_type": "stream",
     "text": [
      "New center of mass :\n",
      "x    0.0\n",
      "y    0.0\n",
      "dtype: float64\n"
     ]
    }
   ],
   "source": [
    "\n",
    "# Translate vertices by - \n",
    "\n",
    "sheet_2d.vert_df[sheet_2d.coords] -= centered2Dmap\n",
    "\n",
    "print(\"New center of mass :\")\n",
    "print(sheet_2d.vert_df[sheet_2d.coords].mean(axis=0))"
   ]
  },
  {
   "cell_type": "code",
   "execution_count": 17,
   "id": "d0ffd279-8d3a-4d16-9c26-adad9c3012db",
   "metadata": {},
   "outputs": [
    {
     "data": {
      "text/html": [
       "<div>\n",
       "<style scoped>\n",
       "    .dataframe tbody tr th:only-of-type {\n",
       "        vertical-align: middle;\n",
       "    }\n",
       "\n",
       "    .dataframe tbody tr th {\n",
       "        vertical-align: top;\n",
       "    }\n",
       "\n",
       "    .dataframe thead th {\n",
       "        text-align: right;\n",
       "    }\n",
       "</style>\n",
       "<table border=\"1\" class=\"dataframe\">\n",
       "  <thead>\n",
       "    <tr style=\"text-align: right;\">\n",
       "      <th></th>\n",
       "      <th>y</th>\n",
       "      <th>is_active</th>\n",
       "      <th>x</th>\n",
       "    </tr>\n",
       "    <tr>\n",
       "      <th>vert</th>\n",
       "      <th></th>\n",
       "      <th></th>\n",
       "      <th></th>\n",
       "    </tr>\n",
       "  </thead>\n",
       "  <tbody>\n",
       "    <tr>\n",
       "      <th>0</th>\n",
       "      <td>0.125</td>\n",
       "      <td>1</td>\n",
       "      <td>-2.25</td>\n",
       "    </tr>\n",
       "    <tr>\n",
       "      <th>1</th>\n",
       "      <td>0.875</td>\n",
       "      <td>1</td>\n",
       "      <td>-1.25</td>\n",
       "    </tr>\n",
       "    <tr>\n",
       "      <th>2</th>\n",
       "      <td>0.125</td>\n",
       "      <td>1</td>\n",
       "      <td>-0.25</td>\n",
       "    </tr>\n",
       "    <tr>\n",
       "      <th>3</th>\n",
       "      <td>0.875</td>\n",
       "      <td>1</td>\n",
       "      <td>-2.25</td>\n",
       "    </tr>\n",
       "    <tr>\n",
       "      <th>4</th>\n",
       "      <td>1.125</td>\n",
       "      <td>1</td>\n",
       "      <td>-1.75</td>\n",
       "    </tr>\n",
       "    <tr>\n",
       "      <th>5</th>\n",
       "      <td>-0.875</td>\n",
       "      <td>1</td>\n",
       "      <td>0.25</td>\n",
       "    </tr>\n",
       "    <tr>\n",
       "      <th>6</th>\n",
       "      <td>-0.125</td>\n",
       "      <td>1</td>\n",
       "      <td>0.25</td>\n",
       "    </tr>\n",
       "    <tr>\n",
       "      <th>7</th>\n",
       "      <td>-0.125</td>\n",
       "      <td>1</td>\n",
       "      <td>1.25</td>\n",
       "    </tr>\n",
       "    <tr>\n",
       "      <th>8</th>\n",
       "      <td>0.125</td>\n",
       "      <td>1</td>\n",
       "      <td>0.75</td>\n",
       "    </tr>\n",
       "    <tr>\n",
       "      <th>9</th>\n",
       "      <td>-1.875</td>\n",
       "      <td>1</td>\n",
       "      <td>0.75</td>\n",
       "    </tr>\n",
       "    <tr>\n",
       "      <th>10</th>\n",
       "      <td>-1.125</td>\n",
       "      <td>1</td>\n",
       "      <td>0.75</td>\n",
       "    </tr>\n",
       "    <tr>\n",
       "      <th>11</th>\n",
       "      <td>-0.875</td>\n",
       "      <td>1</td>\n",
       "      <td>1.25</td>\n",
       "    </tr>\n",
       "    <tr>\n",
       "      <th>12</th>\n",
       "      <td>-0.125</td>\n",
       "      <td>1</td>\n",
       "      <td>-1.75</td>\n",
       "    </tr>\n",
       "    <tr>\n",
       "      <th>13</th>\n",
       "      <td>-0.125</td>\n",
       "      <td>1</td>\n",
       "      <td>-0.75</td>\n",
       "    </tr>\n",
       "    <tr>\n",
       "      <th>14</th>\n",
       "      <td>0.125</td>\n",
       "      <td>1</td>\n",
       "      <td>-1.25</td>\n",
       "    </tr>\n",
       "    <tr>\n",
       "      <th>15</th>\n",
       "      <td>0.875</td>\n",
       "      <td>1</td>\n",
       "      <td>-0.25</td>\n",
       "    </tr>\n",
       "    <tr>\n",
       "      <th>16</th>\n",
       "      <td>1.125</td>\n",
       "      <td>1</td>\n",
       "      <td>-0.75</td>\n",
       "    </tr>\n",
       "    <tr>\n",
       "      <th>17</th>\n",
       "      <td>0.125</td>\n",
       "      <td>1</td>\n",
       "      <td>1.75</td>\n",
       "    </tr>\n",
       "    <tr>\n",
       "      <th>18</th>\n",
       "      <td>-0.125</td>\n",
       "      <td>1</td>\n",
       "      <td>2.25</td>\n",
       "    </tr>\n",
       "    <tr>\n",
       "      <th>19</th>\n",
       "      <td>0.875</td>\n",
       "      <td>1</td>\n",
       "      <td>1.75</td>\n",
       "    </tr>\n",
       "    <tr>\n",
       "      <th>20</th>\n",
       "      <td>1.125</td>\n",
       "      <td>1</td>\n",
       "      <td>2.25</td>\n",
       "    </tr>\n",
       "    <tr>\n",
       "      <th>21</th>\n",
       "      <td>-1.875</td>\n",
       "      <td>1</td>\n",
       "      <td>1.75</td>\n",
       "    </tr>\n",
       "    <tr>\n",
       "      <th>22</th>\n",
       "      <td>-0.875</td>\n",
       "      <td>1</td>\n",
       "      <td>2.25</td>\n",
       "    </tr>\n",
       "    <tr>\n",
       "      <th>23</th>\n",
       "      <td>-1.125</td>\n",
       "      <td>1</td>\n",
       "      <td>1.75</td>\n",
       "    </tr>\n",
       "    <tr>\n",
       "      <th>24</th>\n",
       "      <td>-1.125</td>\n",
       "      <td>1</td>\n",
       "      <td>-2.25</td>\n",
       "    </tr>\n",
       "    <tr>\n",
       "      <th>25</th>\n",
       "      <td>-0.875</td>\n",
       "      <td>1</td>\n",
       "      <td>-1.75</td>\n",
       "    </tr>\n",
       "    <tr>\n",
       "      <th>26</th>\n",
       "      <td>1.875</td>\n",
       "      <td>1</td>\n",
       "      <td>-0.75</td>\n",
       "    </tr>\n",
       "    <tr>\n",
       "      <th>27</th>\n",
       "      <td>1.125</td>\n",
       "      <td>1</td>\n",
       "      <td>0.25</td>\n",
       "    </tr>\n",
       "    <tr>\n",
       "      <th>28</th>\n",
       "      <td>0.875</td>\n",
       "      <td>1</td>\n",
       "      <td>0.75</td>\n",
       "    </tr>\n",
       "    <tr>\n",
       "      <th>29</th>\n",
       "      <td>1.125</td>\n",
       "      <td>1</td>\n",
       "      <td>1.25</td>\n",
       "    </tr>\n",
       "    <tr>\n",
       "      <th>30</th>\n",
       "      <td>1.875</td>\n",
       "      <td>1</td>\n",
       "      <td>1.25</td>\n",
       "    </tr>\n",
       "    <tr>\n",
       "      <th>31</th>\n",
       "      <td>1.875</td>\n",
       "      <td>1</td>\n",
       "      <td>-1.75</td>\n",
       "    </tr>\n",
       "    <tr>\n",
       "      <th>32</th>\n",
       "      <td>1.875</td>\n",
       "      <td>1</td>\n",
       "      <td>0.25</td>\n",
       "    </tr>\n",
       "    <tr>\n",
       "      <th>33</th>\n",
       "      <td>-1.875</td>\n",
       "      <td>1</td>\n",
       "      <td>-0.25</td>\n",
       "    </tr>\n",
       "    <tr>\n",
       "      <th>34</th>\n",
       "      <td>-1.875</td>\n",
       "      <td>1</td>\n",
       "      <td>-1.25</td>\n",
       "    </tr>\n",
       "    <tr>\n",
       "      <th>35</th>\n",
       "      <td>-0.875</td>\n",
       "      <td>1</td>\n",
       "      <td>-0.75</td>\n",
       "    </tr>\n",
       "    <tr>\n",
       "      <th>36</th>\n",
       "      <td>-1.125</td>\n",
       "      <td>1</td>\n",
       "      <td>-0.25</td>\n",
       "    </tr>\n",
       "    <tr>\n",
       "      <th>37</th>\n",
       "      <td>-1.125</td>\n",
       "      <td>1</td>\n",
       "      <td>-1.25</td>\n",
       "    </tr>\n",
       "  </tbody>\n",
       "</table>\n",
       "</div>"
      ],
      "text/plain": [
       "          y  is_active     x\n",
       "vert                        \n",
       "0     0.125          1 -2.25\n",
       "1     0.875          1 -1.25\n",
       "2     0.125          1 -0.25\n",
       "3     0.875          1 -2.25\n",
       "4     1.125          1 -1.75\n",
       "5    -0.875          1  0.25\n",
       "6    -0.125          1  0.25\n",
       "7    -0.125          1  1.25\n",
       "8     0.125          1  0.75\n",
       "9    -1.875          1  0.75\n",
       "10   -1.125          1  0.75\n",
       "11   -0.875          1  1.25\n",
       "12   -0.125          1 -1.75\n",
       "13   -0.125          1 -0.75\n",
       "14    0.125          1 -1.25\n",
       "15    0.875          1 -0.25\n",
       "16    1.125          1 -0.75\n",
       "17    0.125          1  1.75\n",
       "18   -0.125          1  2.25\n",
       "19    0.875          1  1.75\n",
       "20    1.125          1  2.25\n",
       "21   -1.875          1  1.75\n",
       "22   -0.875          1  2.25\n",
       "23   -1.125          1  1.75\n",
       "24   -1.125          1 -2.25\n",
       "25   -0.875          1 -1.75\n",
       "26    1.875          1 -0.75\n",
       "27    1.125          1  0.25\n",
       "28    0.875          1  0.75\n",
       "29    1.125          1  1.25\n",
       "30    1.875          1  1.25\n",
       "31    1.875          1 -1.75\n",
       "32    1.875          1  0.25\n",
       "33   -1.875          1 -0.25\n",
       "34   -1.875          1 -1.25\n",
       "35   -0.875          1 -0.75\n",
       "36   -1.125          1 -0.25\n",
       "37   -1.125          1 -1.25"
      ]
     },
     "execution_count": 17,
     "metadata": {},
     "output_type": "execute_result"
    }
   ],
   "source": [
    "sheet_2d.vert_df"
   ]
  },
  {
   "cell_type": "code",
   "execution_count": 3,
   "id": "b8e38409-f2b5-442a-a6b2-638838253b72",
   "metadata": {},
   "outputs": [],
   "source": [
    "import numpy as np\n",
    "import pandas as pd\n",
    "import matplotlib.pyplot as plt\n",
    "%matplotlib inline\n",
    "from IPython.display import Image\n",
    "\n",
    "\n",
    "from tyssue import config, Sheet, SheetGeometry, History, EventManager\n",
    "from tyssue.draw import sheet_view\n",
    "from tyssue.generation import three_faces_sheet\n",
    "from tyssue.draw.plt_draw import plot_forces\n",
    "\n",
    "from tyssue.dynamics import PlanarModel\n",
    "\n",
    "from tyssue.solvers.viscous import EulerSolver\n",
    "from tyssue.draw.plt_draw import create_gif\n",
    "\n"
   ]
  },
  {
   "cell_type": "code",
   "execution_count": 8,
   "id": "930e18f9-c73a-474a-85b9-cd4c7ff0f2fa",
   "metadata": {},
   "outputs": [
    {
     "name": "stderr",
     "output_type": "stream",
     "text": [
      "/Users/v_lachina/opt/anaconda3/envs/VertexModel/lib/python3.9/site-packages/tyssue/topology/base_topology.py:168: FutureWarning: The frame.append method is deprecated and will be removed from pandas in a future version. Use pandas.concat instead.\n",
      "  eptm.edge_df = eptm.edge_df.append(face_edges.iloc[0:1], ignore_index=True)\n",
      "/Users/v_lachina/opt/anaconda3/envs/VertexModel/lib/python3.9/site-packages/tyssue/topology/base_topology.py:168: FutureWarning: The frame.append method is deprecated and will be removed from pandas in a future version. Use pandas.concat instead.\n",
      "  eptm.edge_df = eptm.edge_df.append(face_edges.iloc[0:1], ignore_index=True)\n",
      "/Users/v_lachina/opt/anaconda3/envs/VertexModel/lib/python3.9/site-packages/tyssue/topology/base_topology.py:168: FutureWarning: The frame.append method is deprecated and will be removed from pandas in a future version. Use pandas.concat instead.\n",
      "  eptm.edge_df = eptm.edge_df.append(face_edges.iloc[0:1], ignore_index=True)\n",
      "/Users/v_lachina/opt/anaconda3/envs/VertexModel/lib/python3.9/site-packages/tyssue/topology/base_topology.py:168: FutureWarning: The frame.append method is deprecated and will be removed from pandas in a future version. Use pandas.concat instead.\n",
      "  eptm.edge_df = eptm.edge_df.append(face_edges.iloc[0:1], ignore_index=True)\n",
      "/Users/v_lachina/opt/anaconda3/envs/VertexModel/lib/python3.9/site-packages/tyssue/topology/base_topology.py:168: FutureWarning: The frame.append method is deprecated and will be removed from pandas in a future version. Use pandas.concat instead.\n",
      "  eptm.edge_df = eptm.edge_df.append(face_edges.iloc[0:1], ignore_index=True)\n",
      "/Users/v_lachina/opt/anaconda3/envs/VertexModel/lib/python3.9/site-packages/tyssue/topology/base_topology.py:168: FutureWarning: The frame.append method is deprecated and will be removed from pandas in a future version. Use pandas.concat instead.\n",
      "  eptm.edge_df = eptm.edge_df.append(face_edges.iloc[0:1], ignore_index=True)\n",
      "/Users/v_lachina/opt/anaconda3/envs/VertexModel/lib/python3.9/site-packages/tyssue/topology/base_topology.py:168: FutureWarning: The frame.append method is deprecated and will be removed from pandas in a future version. Use pandas.concat instead.\n",
      "  eptm.edge_df = eptm.edge_df.append(face_edges.iloc[0:1], ignore_index=True)\n",
      "/Users/v_lachina/opt/anaconda3/envs/VertexModel/lib/python3.9/site-packages/tyssue/topology/base_topology.py:168: FutureWarning: The frame.append method is deprecated and will be removed from pandas in a future version. Use pandas.concat instead.\n",
      "  eptm.edge_df = eptm.edge_df.append(face_edges.iloc[0:1], ignore_index=True)\n",
      "/Users/v_lachina/opt/anaconda3/envs/VertexModel/lib/python3.9/site-packages/tyssue/topology/base_topology.py:168: FutureWarning: The frame.append method is deprecated and will be removed from pandas in a future version. Use pandas.concat instead.\n",
      "  eptm.edge_df = eptm.edge_df.append(face_edges.iloc[0:1], ignore_index=True)\n",
      "/Users/v_lachina/opt/anaconda3/envs/VertexModel/lib/python3.9/site-packages/tyssue/topology/base_topology.py:168: FutureWarning: The frame.append method is deprecated and will be removed from pandas in a future version. Use pandas.concat instead.\n",
      "  eptm.edge_df = eptm.edge_df.append(face_edges.iloc[0:1], ignore_index=True)\n",
      "/Users/v_lachina/opt/anaconda3/envs/VertexModel/lib/python3.9/site-packages/tyssue/topology/base_topology.py:168: FutureWarning: The frame.append method is deprecated and will be removed from pandas in a future version. Use pandas.concat instead.\n",
      "  eptm.edge_df = eptm.edge_df.append(face_edges.iloc[0:1], ignore_index=True)\n",
      "/Users/v_lachina/opt/anaconda3/envs/VertexModel/lib/python3.9/site-packages/tyssue/topology/base_topology.py:168: FutureWarning: The frame.append method is deprecated and will be removed from pandas in a future version. Use pandas.concat instead.\n",
      "  eptm.edge_df = eptm.edge_df.append(face_edges.iloc[0:1], ignore_index=True)\n",
      "/Users/v_lachina/opt/anaconda3/envs/VertexModel/lib/python3.9/site-packages/tyssue/geometry/sheet_geometry.py:126: FutureWarning: Using the level keyword in DataFrame and Series aggregations is deprecated and will be removed in a future version. Use groupby instead. df.median(level=1) should use df.groupby(level=1).median().\n",
      "  sheet.face_df[[\"height\", \"rho\"]] = edge_height.mean(level=\"face\")\n"
     ]
    },
    {
     "data": {
      "image/png": "[encoded data removed]",
      "text/plain": [
       "<Figure size 432x288 with 1 Axes>"
      ]
     },
     "metadata": {
      "needs_background": "light"
     },
     "output_type": "display_data"
    }
   ],
   "source": [
    "geom  = SheetGeometry\n",
    "model = PlanarModel\n",
    "\n",
    "sheet = Sheet.planar_sheet_3d('planar', nx=6, ny=6, \n",
    "                             distx=1, disty=1)\n",
    "sheet.sanitize(trim_borders=True, order_edges=True)\n",
    "geom.update_all(sheet)\n",
    "\n",
    "fig, ax = sheet_view(sheet)"
   ]
  },
  {
   "cell_type": "code",
   "execution_count": 9,
   "id": "1cf66ec5-6d61-4a63-81a8-ff8da8d2f398",
   "metadata": {},
   "outputs": [
    {
     "name": "stderr",
     "output_type": "stream",
     "text": [
      "/Users/v_lachina/opt/anaconda3/envs/VertexModel/lib/python3.9/site-packages/tyssue/geometry/sheet_geometry.py:126: FutureWarning: Using the level keyword in DataFrame and Series aggregations is deprecated and will be removed in a future version. Use groupby instead. df.median(level=1) should use df.groupby(level=1).median().\n",
      "  sheet.face_df[[\"height\", \"rho\"]] = edge_height.mean(level=\"face\")\n",
      "/Users/v_lachina/opt/anaconda3/envs/VertexModel/lib/python3.9/site-packages/tyssue/geometry/sheet_geometry.py:126: FutureWarning: Using the level keyword in DataFrame and Series aggregations is deprecated and will be removed in a future version. Use groupby instead. df.median(level=1) should use df.groupby(level=1).median().\n",
      "  sheet.face_df[[\"height\", \"rho\"]] = edge_height.mean(level=\"face\")\n",
      "/Users/v_lachina/opt/anaconda3/envs/VertexModel/lib/python3.9/site-packages/tyssue/geometry/sheet_geometry.py:126: FutureWarning: Using the level keyword in DataFrame and Series aggregations is deprecated and will be removed in a future version. Use groupby instead. df.median(level=1) should use df.groupby(level=1).median().\n",
      "  sheet.face_df[[\"height\", \"rho\"]] = edge_height.mean(level=\"face\")\n",
      "/Users/v_lachina/opt/anaconda3/envs/VertexModel/lib/python3.9/site-packages/tyssue/geometry/sheet_geometry.py:126: FutureWarning: Using the level keyword in DataFrame and Series aggregations is deprecated and will be removed in a future version. Use groupby instead. df.median(level=1) should use df.groupby(level=1).median().\n",
      "  sheet.face_df[[\"height\", \"rho\"]] = edge_height.mean(level=\"face\")\n",
      "/Users/v_lachina/opt/anaconda3/envs/VertexModel/lib/python3.9/site-packages/tyssue/geometry/sheet_geometry.py:126: FutureWarning: Using the level keyword in DataFrame and Series aggregations is deprecated and will be removed in a future version. Use groupby instead. df.median(level=1) should use df.groupby(level=1).median().\n",
      "  sheet.face_df[[\"height\", \"rho\"]] = edge_height.mean(level=\"face\")\n",
      "/Users/v_lachina/opt/anaconda3/envs/VertexModel/lib/python3.9/site-packages/tyssue/geometry/sheet_geometry.py:126: FutureWarning: Using the level keyword in DataFrame and Series aggregations is deprecated and will be removed in a future version. Use groupby instead. df.median(level=1) should use df.groupby(level=1).median().\n",
      "  sheet.face_df[[\"height\", \"rho\"]] = edge_height.mean(level=\"face\")\n",
      "/Users/v_lachina/opt/anaconda3/envs/VertexModel/lib/python3.9/site-packages/tyssue/geometry/sheet_geometry.py:126: FutureWarning: Using the level keyword in DataFrame and Series aggregations is deprecated and will be removed in a future version. Use groupby instead. df.median(level=1) should use df.groupby(level=1).median().\n",
      "  sheet.face_df[[\"height\", \"rho\"]] = edge_height.mean(level=\"face\")\n",
      "/Users/v_lachina/opt/anaconda3/envs/VertexModel/lib/python3.9/site-packages/tyssue/geometry/sheet_geometry.py:126: FutureWarning: Using the level keyword in DataFrame and Series aggregations is deprecated and will be removed in a future version. Use groupby instead. df.median(level=1) should use df.groupby(level=1).median().\n",
      "  sheet.face_df[[\"height\", \"rho\"]] = edge_height.mean(level=\"face\")\n",
      "/Users/v_lachina/opt/anaconda3/envs/VertexModel/lib/python3.9/site-packages/tyssue/geometry/sheet_geometry.py:126: FutureWarning: Using the level keyword in DataFrame and Series aggregations is deprecated and will be removed in a future version. Use groupby instead. df.median(level=1) should use df.groupby(level=1).median().\n",
      "  sheet.face_df[[\"height\", \"rho\"]] = edge_height.mean(level=\"face\")\n",
      "/Users/v_lachina/opt/anaconda3/envs/VertexModel/lib/python3.9/site-packages/tyssue/geometry/sheet_geometry.py:126: FutureWarning: Using the level keyword in DataFrame and Series aggregations is deprecated and will be removed in a future version. Use groupby instead. df.median(level=1) should use df.groupby(level=1).median().\n",
      "  sheet.face_df[[\"height\", \"rho\"]] = edge_height.mean(level=\"face\")\n"
     ]
    },
    {
     "name": "stdout",
     "output_type": "stream",
     "text": [
      "Converting didn't work, make sure imagemagick is available on your system\n"
     ]
    },
    {
     "ename": "FileNotFoundError",
     "evalue": "[Errno 2] No such file or directory: 'convert'",
     "output_type": "error",
     "traceback": [
      "\u001b[0;31m---------------------------------------------------------------------------\u001b[0m",
      "\u001b[0;31mFileNotFoundError\u001b[0m                         Traceback (most recent call last)",
      "Input \u001b[0;32mIn [9]\u001b[0m, in \u001b[0;36m<cell line: 10>\u001b[0;34m()\u001b[0m\n\u001b[1;32m      7\u001b[0m     \u001b[38;5;66;03m# record only every `save_every` time \u001b[39;00m\n\u001b[1;32m      8\u001b[0m     history\u001b[38;5;241m.\u001b[39mrecord()\n\u001b[0;32m---> 10\u001b[0m \u001b[43mcreate_gif\u001b[49m\u001b[43m(\u001b[49m\u001b[43mhistory\u001b[49m\u001b[43m,\u001b[49m\u001b[43m \u001b[49m\u001b[38;5;124;43m'\u001b[39;49m\u001b[38;5;124;43msimple_growth.gif\u001b[39;49m\u001b[38;5;124;43m'\u001b[39;49m\u001b[43m,\u001b[49m\u001b[43m \u001b[49m\u001b[43mnum_frames\u001b[49m\u001b[38;5;241;43m=\u001b[39;49m\u001b[38;5;28;43mlen\u001b[39;49m\u001b[43m(\u001b[49m\u001b[43mhistory\u001b[49m\u001b[43m)\u001b[49m\u001b[43m)\u001b[49m\n\u001b[1;32m     13\u001b[0m Image(\u001b[38;5;124m'\u001b[39m\u001b[38;5;124msimple_growth.gif\u001b[39m\u001b[38;5;124m'\u001b[39m)\n",
      "File \u001b[0;32m~/opt/anaconda3/envs/VertexModel/lib/python3.9/site-packages/tyssue/draw/plt_draw.py:116\u001b[0m, in \u001b[0;36mcreate_gif\u001b[0;34m(history, output, num_frames, interval, draw_func, margin, **draw_kwds)\u001b[0m\n\u001b[1;32m    112\u001b[0m \u001b[38;5;28;01mexcept\u001b[39;00m \u001b[38;5;167;01mException\u001b[39;00m \u001b[38;5;28;01mas\u001b[39;00m e:\n\u001b[1;32m    113\u001b[0m     \u001b[38;5;28mprint\u001b[39m(\n\u001b[1;32m    114\u001b[0m         \u001b[38;5;124m\"\u001b[39m\u001b[38;5;124mConverting didn\u001b[39m\u001b[38;5;124m'\u001b[39m\u001b[38;5;124mt work, make sure imagemagick is available on your system\u001b[39m\u001b[38;5;124m\"\u001b[39m\n\u001b[1;32m    115\u001b[0m     )\n\u001b[0;32m--> 116\u001b[0m     \u001b[38;5;28;01mraise\u001b[39;00m e\n\u001b[1;32m    118\u001b[0m \u001b[38;5;28;01mfinally\u001b[39;00m:\n\u001b[1;32m    119\u001b[0m     shutil\u001b[38;5;241m.\u001b[39mrmtree(graph_dir)\n",
      "File \u001b[0;32m~/opt/anaconda3/envs/VertexModel/lib/python3.9/site-packages/tyssue/draw/plt_draw.py:109\u001b[0m, in \u001b[0;36mcreate_gif\u001b[0;34m(history, output, num_frames, interval, draw_func, margin, **draw_kwds)\u001b[0m\n\u001b[1;32m    106\u001b[0m         plt\u001b[38;5;241m.\u001b[39mclose(fig)\n\u001b[1;32m    108\u001b[0m \u001b[38;5;28;01mtry\u001b[39;00m:\n\u001b[0;32m--> 109\u001b[0m     proc \u001b[38;5;241m=\u001b[39m \u001b[43msubprocess\u001b[49m\u001b[38;5;241;43m.\u001b[39;49m\u001b[43mrun\u001b[49m\u001b[43m(\u001b[49m\n\u001b[1;32m    110\u001b[0m \u001b[43m        \u001b[49m\u001b[43m[\u001b[49m\u001b[38;5;124;43m\"\u001b[39;49m\u001b[38;5;124;43mconvert\u001b[39;49m\u001b[38;5;124;43m\"\u001b[39;49m\u001b[43m,\u001b[49m\u001b[43m \u001b[49m\u001b[43m(\u001b[49m\u001b[43mgraph_dir\u001b[49m\u001b[43m \u001b[49m\u001b[38;5;241;43m/\u001b[39;49m\u001b[43m \u001b[49m\u001b[38;5;124;43m\"\u001b[39;49m\u001b[38;5;124;43mmovie_*.png\u001b[39;49m\u001b[38;5;124;43m\"\u001b[39;49m\u001b[43m)\u001b[49m\u001b[38;5;241;43m.\u001b[39;49m\u001b[43mas_posix\u001b[49m\u001b[43m(\u001b[49m\u001b[43m)\u001b[49m\u001b[43m,\u001b[49m\u001b[43m \u001b[49m\u001b[43moutput\u001b[49m\u001b[43m]\u001b[49m\n\u001b[1;32m    111\u001b[0m \u001b[43m    \u001b[49m\u001b[43m)\u001b[49m\n\u001b[1;32m    112\u001b[0m \u001b[38;5;28;01mexcept\u001b[39;00m \u001b[38;5;167;01mException\u001b[39;00m \u001b[38;5;28;01mas\u001b[39;00m e:\n\u001b[1;32m    113\u001b[0m     \u001b[38;5;28mprint\u001b[39m(\n\u001b[1;32m    114\u001b[0m         \u001b[38;5;124m\"\u001b[39m\u001b[38;5;124mConverting didn\u001b[39m\u001b[38;5;124m'\u001b[39m\u001b[38;5;124mt work, make sure imagemagick is available on your system\u001b[39m\u001b[38;5;124m\"\u001b[39m\n\u001b[1;32m    115\u001b[0m     )\n",
      "File \u001b[0;32m~/opt/anaconda3/envs/VertexModel/lib/python3.9/subprocess.py:505\u001b[0m, in \u001b[0;36mrun\u001b[0;34m(input, capture_output, timeout, check, *popenargs, **kwargs)\u001b[0m\n\u001b[1;32m    502\u001b[0m     kwargs[\u001b[38;5;124m'\u001b[39m\u001b[38;5;124mstdout\u001b[39m\u001b[38;5;124m'\u001b[39m] \u001b[38;5;241m=\u001b[39m PIPE\n\u001b[1;32m    503\u001b[0m     kwargs[\u001b[38;5;124m'\u001b[39m\u001b[38;5;124mstderr\u001b[39m\u001b[38;5;124m'\u001b[39m] \u001b[38;5;241m=\u001b[39m PIPE\n\u001b[0;32m--> 505\u001b[0m \u001b[38;5;28;01mwith\u001b[39;00m \u001b[43mPopen\u001b[49m\u001b[43m(\u001b[49m\u001b[38;5;241;43m*\u001b[39;49m\u001b[43mpopenargs\u001b[49m\u001b[43m,\u001b[49m\u001b[43m \u001b[49m\u001b[38;5;241;43m*\u001b[39;49m\u001b[38;5;241;43m*\u001b[39;49m\u001b[43mkwargs\u001b[49m\u001b[43m)\u001b[49m \u001b[38;5;28;01mas\u001b[39;00m process:\n\u001b[1;32m    506\u001b[0m     \u001b[38;5;28;01mtry\u001b[39;00m:\n\u001b[1;32m    507\u001b[0m         stdout, stderr \u001b[38;5;241m=\u001b[39m process\u001b[38;5;241m.\u001b[39mcommunicate(\u001b[38;5;28minput\u001b[39m, timeout\u001b[38;5;241m=\u001b[39mtimeout)\n",
      "File \u001b[0;32m~/opt/anaconda3/envs/VertexModel/lib/python3.9/subprocess.py:951\u001b[0m, in \u001b[0;36mPopen.__init__\u001b[0;34m(self, args, bufsize, executable, stdin, stdout, stderr, preexec_fn, close_fds, shell, cwd, env, universal_newlines, startupinfo, creationflags, restore_signals, start_new_session, pass_fds, user, group, extra_groups, encoding, errors, text, umask)\u001b[0m\n\u001b[1;32m    947\u001b[0m         \u001b[38;5;28;01mif\u001b[39;00m \u001b[38;5;28mself\u001b[39m\u001b[38;5;241m.\u001b[39mtext_mode:\n\u001b[1;32m    948\u001b[0m             \u001b[38;5;28mself\u001b[39m\u001b[38;5;241m.\u001b[39mstderr \u001b[38;5;241m=\u001b[39m io\u001b[38;5;241m.\u001b[39mTextIOWrapper(\u001b[38;5;28mself\u001b[39m\u001b[38;5;241m.\u001b[39mstderr,\n\u001b[1;32m    949\u001b[0m                     encoding\u001b[38;5;241m=\u001b[39mencoding, errors\u001b[38;5;241m=\u001b[39merrors)\n\u001b[0;32m--> 951\u001b[0m     \u001b[38;5;28;43mself\u001b[39;49m\u001b[38;5;241;43m.\u001b[39;49m\u001b[43m_execute_child\u001b[49m\u001b[43m(\u001b[49m\u001b[43margs\u001b[49m\u001b[43m,\u001b[49m\u001b[43m \u001b[49m\u001b[43mexecutable\u001b[49m\u001b[43m,\u001b[49m\u001b[43m \u001b[49m\u001b[43mpreexec_fn\u001b[49m\u001b[43m,\u001b[49m\u001b[43m \u001b[49m\u001b[43mclose_fds\u001b[49m\u001b[43m,\u001b[49m\n\u001b[1;32m    952\u001b[0m \u001b[43m                        \u001b[49m\u001b[43mpass_fds\u001b[49m\u001b[43m,\u001b[49m\u001b[43m \u001b[49m\u001b[43mcwd\u001b[49m\u001b[43m,\u001b[49m\u001b[43m \u001b[49m\u001b[43menv\u001b[49m\u001b[43m,\u001b[49m\n\u001b[1;32m    953\u001b[0m \u001b[43m                        \u001b[49m\u001b[43mstartupinfo\u001b[49m\u001b[43m,\u001b[49m\u001b[43m \u001b[49m\u001b[43mcreationflags\u001b[49m\u001b[43m,\u001b[49m\u001b[43m \u001b[49m\u001b[43mshell\u001b[49m\u001b[43m,\u001b[49m\n\u001b[1;32m    954\u001b[0m \u001b[43m                        \u001b[49m\u001b[43mp2cread\u001b[49m\u001b[43m,\u001b[49m\u001b[43m \u001b[49m\u001b[43mp2cwrite\u001b[49m\u001b[43m,\u001b[49m\n\u001b[1;32m    955\u001b[0m \u001b[43m                        \u001b[49m\u001b[43mc2pread\u001b[49m\u001b[43m,\u001b[49m\u001b[43m \u001b[49m\u001b[43mc2pwrite\u001b[49m\u001b[43m,\u001b[49m\n\u001b[1;32m    956\u001b[0m \u001b[43m                        \u001b[49m\u001b[43merrread\u001b[49m\u001b[43m,\u001b[49m\u001b[43m \u001b[49m\u001b[43merrwrite\u001b[49m\u001b[43m,\u001b[49m\n\u001b[1;32m    957\u001b[0m \u001b[43m                        \u001b[49m\u001b[43mrestore_signals\u001b[49m\u001b[43m,\u001b[49m\n\u001b[1;32m    958\u001b[0m \u001b[43m                        \u001b[49m\u001b[43mgid\u001b[49m\u001b[43m,\u001b[49m\u001b[43m \u001b[49m\u001b[43mgids\u001b[49m\u001b[43m,\u001b[49m\u001b[43m \u001b[49m\u001b[43muid\u001b[49m\u001b[43m,\u001b[49m\u001b[43m \u001b[49m\u001b[43mumask\u001b[49m\u001b[43m,\u001b[49m\n\u001b[1;32m    959\u001b[0m \u001b[43m                        \u001b[49m\u001b[43mstart_new_session\u001b[49m\u001b[43m)\u001b[49m\n\u001b[1;32m    960\u001b[0m \u001b[38;5;28;01mexcept\u001b[39;00m:\n\u001b[1;32m    961\u001b[0m     \u001b[38;5;66;03m# Cleanup if the child failed starting.\u001b[39;00m\n\u001b[1;32m    962\u001b[0m     \u001b[38;5;28;01mfor\u001b[39;00m f \u001b[38;5;129;01min\u001b[39;00m \u001b[38;5;28mfilter\u001b[39m(\u001b[38;5;28;01mNone\u001b[39;00m, (\u001b[38;5;28mself\u001b[39m\u001b[38;5;241m.\u001b[39mstdin, \u001b[38;5;28mself\u001b[39m\u001b[38;5;241m.\u001b[39mstdout, \u001b[38;5;28mself\u001b[39m\u001b[38;5;241m.\u001b[39mstderr)):\n",
      "File \u001b[0;32m~/opt/anaconda3/envs/VertexModel/lib/python3.9/subprocess.py:1821\u001b[0m, in \u001b[0;36mPopen._execute_child\u001b[0;34m(self, args, executable, preexec_fn, close_fds, pass_fds, cwd, env, startupinfo, creationflags, shell, p2cread, p2cwrite, c2pread, c2pwrite, errread, errwrite, restore_signals, gid, gids, uid, umask, start_new_session)\u001b[0m\n\u001b[1;32m   1819\u001b[0m     \u001b[38;5;28;01mif\u001b[39;00m errno_num \u001b[38;5;241m!=\u001b[39m \u001b[38;5;241m0\u001b[39m:\n\u001b[1;32m   1820\u001b[0m         err_msg \u001b[38;5;241m=\u001b[39m os\u001b[38;5;241m.\u001b[39mstrerror(errno_num)\n\u001b[0;32m-> 1821\u001b[0m     \u001b[38;5;28;01mraise\u001b[39;00m child_exception_type(errno_num, err_msg, err_filename)\n\u001b[1;32m   1822\u001b[0m \u001b[38;5;28;01mraise\u001b[39;00m child_exception_type(err_msg)\n",
      "\u001b[0;31mFileNotFoundError\u001b[0m: [Errno 2] No such file or directory: 'convert'"
     ]
    }
   ],
   "source": [
    "history = History(sheet, save_every=2, dt=1)\n",
    "\n",
    "for i in range(10):\n",
    "    \n",
    "    geom.scale(sheet, 1.02, list('xy'))\n",
    "    geom.update_all(sheet)\n",
    "    # record only every `save_every` time \n",
    "    history.record()\n",
    "\n",
    "create_gif(history, 'simple_growth.gif', num_frames=len(history))\n",
    "\n",
    "\n",
    "Image('simple_growth.gif')"
   ]
  },
  {
   "cell_type": "code",
   "execution_count": null,
   "id": "3c74a59d-e574-4c70-9621-f4fffb1033aa",
   "metadata": {},
   "outputs": [],
   "source": []
  },
  {
   "cell_type": "code",
   "execution_count": null,
   "id": "3010f936-8332-4019-95e5-fcd29299ea12",
   "metadata": {},
   "outputs": [],
   "source": []
  }
 ],
 "metadata": {
  "kernelspec": {
   "display_name": "Python 3",
   "language": "python",
   "name": "python3"
  },
  "language_info": {
   "codemirror_mode": {
    "name": "ipython",
    "version": 3
   },
   "file_extension": ".py",
   "mimetype": "text/x-python",
   "name": "python",
   "nbconvert_exporter": "python",
   "pygments_lexer": "ipython3",
   "version": "3.9.12"
  }
 },
 "nbformat": 4,
 "nbformat_minor": 5
}
