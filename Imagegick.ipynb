{
 "cells": [
  {
   "cell_type": "code",
   "execution_count": 1,
   "id": "a285d4bd-72d2-49da-a50f-a58e186b50b6",
   "metadata": {},
   "outputs": [
    {
     "name": "stdout",
     "output_type": "stream",
     "text": [
      "C++ extension are not available for this version\n",
      "collision solver could not be imported You may need to install CGAL and re-install tyssue\n"
     ]
    }
   ],
   "source": [
    "import sys\n",
    "import random\n",
    "import numpy as np\n",
    "import pandas as pd\n",
    "import numpy as np\n",
    "import json\n",
    "import matplotlib.pylab as plt\n",
    "%matplotlib inline\n",
    "import ipyvolume as ipv\n",
    "\n",
    "from IPython.display import Image\n",
    "from scipy import optimize\n",
    "\n",
    "from tyssue import config, Sheet, SheetGeometry, History, EventManager\n",
    "from tyssue import SheetGeometry as geom\n",
    "from tyssue import PlanarGeometry as geom\n",
    "from tyssue.draw.plt_draw import create_gif, plot_forces, quick_edge_draw  # noqa\n",
    "from tyssue.draw.plt_draw import plot_forces\n",
    "from tyssue.draw import sheet_view\n",
    "from tyssue.dynamics import effectors, model_factory\n",
    "from tyssue.dynamics import PlanarModel\n",
    "from tyssue.dynamics import SheetModel as model\n",
    "from tyssue.generation import three_faces_sheet\n",
    "from tyssue.solvers.viscous import EulerSolver\n",
    "from tyssue.solvers.quasistatic import QSSolver\n",
    "from tyssue.draw import sheet_view\n",
    "from tyssue.draw.plt_draw import plot_forces\n",
    "from tyssue.io import hdf5\n",
    "import copy\n",
    "\n",
    "from tyssue.geometry.planar_geometry import PlanarGeometry as geom\n",
    "from tyssue.solvers.quasistatic import QSSolver\n",
    "from tyssue.dynamics.planar_vertex_model import PlanarModel as model\n",
    "\n",
    "\n",
    "from tyssue.stores import load_datasets\n",
    "\n",
    "from tyssue.topology.sheet_topology import remove_face, cell_division\n",
    "\n",
    "import warnings\n",
    "warnings.filterwarnings('ignore')\n",
    "\n"
   ]
  },
  {
   "cell_type": "code",
   "execution_count": 16,
   "id": "eee7fd1f-2435-4707-9291-d4dac5516e9c",
   "metadata": {},
   "outputs": [],
   "source": [
    "def create_frames(\n",
    "    history,\n",
    "    output,\n",
    "    num_frames=None,\n",
    "    interval=None,\n",
    "    draw_func=None,\n",
    "    margin=5,\n",
    "    **draw_kwds,\n",
    "):\n",
    "    \"\"\"Creates a set of png frames of the recorded history.\n",
    "   \n",
    "    Parameters\n",
    "    ----------\n",
    "    history : a :class:`tyssue.History` object\n",
    "    output : path to the output directory\n",
    "    num_frames : int, the number of frames in the gif\n",
    "    interval : tuples, define begin and end frame of the gif\n",
    "    draw_func : a drawing function\n",
    "         this function must take a `sheet` object as first argument\n",
    "         and return a `fig, ax` pair. Defaults to quick_edge_draw\n",
    "         (aka sheet_view with quick mode)\n",
    "    margin : int, the graph margins in percents, default 5\n",
    "         if margin is -1, let the draw function decide\n",
    "    **draw_kwds are passed to the drawing function\n",
    "    \"\"\"\n",
    "    if draw_func is None:\n",
    "        if draw_kwds.get(\"mode\") in (\"quick\", None):\n",
    "            draw_func = quick_edge_draw\n",
    "        else:\n",
    "            draw_func = sheet_view\n",
    "\n",
    "    graph_dir = pathlib.Path(output)\n",
    "    graph_dir.mkdir(parents=True, exist_ok=True)\n",
    "\n",
    "    x, y = coords = draw_kwds.get(\"coords\", history.sheet.coords[:2])\n",
    "    sheet0 = history.retrieve(0)\n",
    "    bounds = sheet0.vert_df[coords].describe().loc[[\"min\", \"max\"]]\n",
    "    delta = (bounds.loc[\"max\"] - bounds.loc[\"min\"]).max()\n",
    "    margin = delta * margin / 100\n",
    "    xlim = bounds.loc[\"min\", x] - margin, bounds.loc[\"max\", x] + margin\n",
    "    ylim = bounds.loc[\"min\", y] - margin, bounds.loc[\"max\", y] + margin\n",
    "\n",
    "    if interval is None:\n",
    "        start, stop = None, None\n",
    "    else:\n",
    "        start, stop = interval[0], interval[1]\n",
    "\n",
    "    for i, (t, sheet) in enumerate(History.time_stamps(start, stop, num_frames)):\n",
    "        try:\n",
    "            fig, ax = draw_func(sheet, **draw_kwds)\n",
    "        except Exception as e:\n",
    "            print(\"Droped frame {i}\")\n",
    "\n",
    "        if isinstance(ax, plt.Axes) and margin >= 0:\n",
    "            ax.set(xlim=xlim, ylim=ylim)\n",
    "        fig.savefig(graph_dir / f\"movie_{i:04d}.png\")\n",
    "        plt.close(fig)"
   ]
  },
  {
   "cell_type": "code",
   "execution_count": 3,
   "id": "3a354fbe-d7dd-4ad8-8677-a6df61a3387f",
   "metadata": {},
   "outputs": [],
   "source": [
    "def length_elasticity_range(cellmap, FRC_lower_length_elasticity, FRC_higher_length_elasticity, ECM_lower_length_elasticity, ECM_higher_length_elasticity):\n",
    "    for edge in range(len(cellmap.edge_df)):\n",
    "        FRCnewValue = random.randrange(FRC_lower_length_elasticity, FRC_higher_length_elasticity)/10000\n",
    "        ECMnewValue = random.randrange(ECM_lower_length_elasticity, ECM_higher_length_elasticity)/10000\n",
    "        cellmap.edge_df['length_elasticity'][edge] = FRCnewValue + ECMnewValue\n",
    "\n",
    "        return cellmap\n"
   ]
  },
  {
   "cell_type": "code",
   "execution_count": 4,
   "id": "7af0daf2-318a-4f72-8bb1-c93a49ae36b2",
   "metadata": {},
   "outputs": [],
   "source": [
    "def prefered_area_range(cellmap, lower_prefered_area, higher_prefered_area):\n",
    "    for face in range(len(cellmap.face_df)):\n",
    "        newValue = random.randrange(lower_prefered_area, higher_prefered_area)/10000\n",
    "        cellmap.face_df['prefered_area'][face] = newValue\n",
    "    return cellmap"
   ]
  },
  {
   "cell_type": "code",
   "execution_count": 5,
   "id": "8a96cc6f-bfb0-44d7-86a6-aca8ce8f1cdf",
   "metadata": {},
   "outputs": [],
   "source": [
    "def change_specs(cellmap_original, geom_original, model_original, history_original, face_elasticity,\n",
    "                 lower_prefered_area, higher_prefered_area, FRC_lower_length_elasticity, FRC_higher_length_elasticity, ECM_lower_length_elasticity,\n",
    "                 ECM_higher_length_elasticity, line_nought, endTime):\n",
    "    \n",
    "    \n",
    "    cellmap_original = length_elasticity_range(cellmap_original, FRC_lower_length_elasticity, FRC_higher_length_elasticity, ECM_lower_length_elasticity, ECM_higher_length_elasticity)\n",
    "    cellmap_original = prefered_area_range(cellmap_original, lower_prefered_area, higher_prefered_area)\n",
    "\n",
    "\n",
    "    \n",
    "    cellmap_original.face_df[\"face_elasticity\"] = face_elasticity\n",
    "    cellmap_original.edge_df[\"prefered_length\"] = line_nought\n",
    "\n",
    "    cellmap_original.vert_df[\"viscosity\"] = 1   \n",
    "    \n",
    "    cellmap_original.face_df[\"prefered_area\"][40] = 2\n",
    "    \n",
    "    \n",
    "\n",
    "    solver1 = EulerSolver(cellmap_original, geom_original, model_original, history=history_original, auto_reconnect=True)\n",
    "    res1 = solver1.solve(tf=endTime, dt=0.05)\n",
    "    \n",
    "    \n",
    "    \n",
    "    cellmap_new = copy.deepcopy(cellmap_original)\n",
    "    geom_new = copy.deepcopy(geom_original)\n",
    "    model_new = copy.deepcopy(model_original)\n",
    "    history_new = copy.deepcopy(history_original)\n",
    "    \n",
    "    return [cellmap_new, geom_new, model_new, history_new]\n",
    "    "
   ]
  },
  {
   "cell_type": "code",
   "execution_count": 6,
   "id": "796aa997-8334-4c54-9a1d-c2319aca1ed6",
   "metadata": {},
   "outputs": [
    {
     "data": {
      "image/png": "[encoded data removed]",
      "text/plain": [
       "<Figure size 432x288 with 1 Axes>"
      ]
     },
     "metadata": {
      "needs_background": "light"
     },
     "output_type": "display_data"
    }
   ],
   "source": [
    "## Definition of the sheet\n",
    "geom_original  = SheetGeometry \n",
    "model_original = model_factory([    \n",
    "    effectors.FaceAreaElasticity,\n",
    "    effectors.LengthElasticity\n",
    "    ])\n",
    "\n",
    "cellmap_original = Sheet.planar_sheet_3d('cellmap', 10, 10, 1, 1) # This may need to change\n",
    "\n",
    "history_original = History(cellmap_original, extra_cols={\"edge\":[\"dx\", \"dy\"]})\n",
    "\n",
    "\n",
    "cellmap_original.sanitize ( trim_borders=True, order_edges=True )\n",
    "\n",
    "geom.update_all(cellmap_original)\n",
    "\n",
    "cellmap_original.update_specs(model_original.specs)\n",
    "\n",
    "fig, ax = sheet_view(cellmap_original, ['y', 'x'], mode='quick')"
   ]
  },
  {
   "cell_type": "code",
   "execution_count": 7,
   "id": "37879c00-4790-40ef-a4a4-048b0f6333a3",
   "metadata": {},
   "outputs": [],
   "source": [
    "[cellmap_H, geom_H, model_H, history_H] = change_specs(cellmap_original, geom_original, model_original, history_original, face_elasticity = 0.05, lower_prefered_area = 5000, higher_prefered_area = 6000, \n",
    "                                                       FRC_lower_length_elasticity = 10, FRC_higher_length_elasticity = 5000, ECM_lower_length_elasticity = 1, \n",
    "                                                       ECM_higher_length_elasticity = 100, line_nought = 0.2 , endTime = 10)"
   ]
  },
  {
   "cell_type": "code",
   "execution_count": 10,
   "id": "d3291c78-c477-46e4-a8c8-1a657e4b8644",
   "metadata": {},
   "outputs": [],
   "source": [
    "time_two = history_original.retrieve(100000000000000)\n",
    "fig, ax = sheet_view(time_two, ['y', 'x'], mode='quick')"
   ]
  },
  {
   "cell_type": "code",
   "execution_count": null,
   "id": "3a090c82-f84b-4c4c-9214-9a227a062507",
   "metadata": {},
   "outputs": [],
   "source": [
    "retrieve_columns(face, area)"
   ]
  },
  {
   "cell_type": "code",
   "execution_count": null,
   "id": "6b7ef137-4d2b-4595-9279-026192873147",
   "metadata": {},
   "outputs": [],
   "source": [
    "import logging\n",
    "import os\n",
    "\n",
    "create_frames(history_original, '/Users/v_lachina/Desktop/Yanlan Mao/output', num_frames=10/0.05,interval=None)"
   ]
  },
  {
   "cell_type": "code",
   "execution_count": null,
   "id": "b6de8b82-8723-444d-9335-96e13adc2df3",
   "metadata": {},
   "outputs": [],
   "source": []
  }
 ],
 "metadata": {
  "kernelspec": {
   "display_name": "Python 3",
   "language": "python",
   "name": "python3"
  },
  "language_info": {
   "codemirror_mode": {
    "name": "ipython",
    "version": 3
   },
   "file_extension": ".py",
   "mimetype": "text/x-python",
   "name": "python",
   "nbconvert_exporter": "python",
   "pygments_lexer": "ipython3",
   "version": "3.9.12"
  }
 },
 "nbformat": 4,
 "nbformat_minor": 5
}
