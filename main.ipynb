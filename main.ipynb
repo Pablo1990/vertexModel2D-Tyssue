{
 "cells": [
  {
   "cell_type": "code",
   "execution_count": null,
   "id": "8d0dae41-39fe-494b-a67b-c2029d9705a0",
   "metadata": {},
   "outputs": [],
   "source": [
    "import warnings\n",
    "warnings.simplefilter(action='ignore', category=FutureWarning)\n",
    "\n",
    "import ipyvolume as ipv\n",
    "import json\n",
    "import matplotlib.pylab as plt\n",
    "import numpy as np\n",
    "import pandas as pd\n",
    "import random\n",
    "import sys\n",
    "import tyssue.io.hdf5 as hdf5\n",
    "from IPython.display import Image\n",
    "from scipy import optimize\n",
    "from tyssue.draw import sheet_view\n",
    "\n",
    "##### Own functions\n",
    "import src.vertexModel as vertexModel\n",
    "import src.inputMechanicalParameters as inputMechanicalParameters\n",
    "import src.auxFunctions as auxFunctions"
   ]
  },
  {
   "cell_type": "code",
   "execution_count": null,
   "id": "5f29f35f-ef29-4b15-ad99-260d0a92c31c",
   "metadata": {},
   "outputs": [],
   "source": [
    "#### Initialize Model\n",
    "[cellmap_init, geom, energyContributions_model] = vertexModel.initialize()\n",
    "\n",
    "## Update mechanical parameters\n",
    "cellmap_init = inputMechanicalParameters.update(cellmap_init)\n",
    "\n",
    "## Initial stage\n",
    "energyContributions_model.compute_energy(cellmap_init)"
   ]
  },
  {
   "cell_type": "code",
   "execution_count": null,
   "id": "c82b11cb-b2f1-4f5f-80e4-f374842cf6be",
   "metadata": {},
   "outputs": [],
   "source": [
    "## RUN\n",
    "[cellmap_H, geom, model_H, history_H] = vertexModel.solveEuler(cellmap_init, geom, energyContributions_model, endTime = 100)"
   ]
  },
  {
   "cell_type": "code",
   "execution_count": null,
   "id": "c8f6d114-3658-4a70-923f-d2dd76a323eb",
   "metadata": {},
   "outputs": [],
   "source": [
    "cellmap_H.edge_df[\"color_edges\"] = cellmap_H.edge_df['length']/(max(cellmap_H.edge_df['length']));\n",
    "cellmap_H.face_df[\"color_edges\"] = cellmap_H.face_df['area']/(max(cellmap_H.face_df['area']));\n",
    "\n",
    "## https://tyssue.readthedocs.io/en/latest/notebooks/02-Visualization.html\n",
    "specs = {\n",
    "    'face': {\n",
    "        'visible': True,\n",
    "        'color': cellmap_H.face_df[\"color_edges\"],\n",
    "    },\n",
    "    'edge': {\n",
    "        'visible': True,\n",
    "        'color': cellmap_H.edge_df[\"color_edges\"],\n",
    "        'colormap':'Greys',\n",
    "        'width': 1,\n",
    "    },\n",
    "    'vert': {\n",
    "        'visible': True,\n",
    "        's': 5,\n",
    "    }\n",
    "}\n",
    "fig, ax = sheet_view(cellmap_H, **specs)\n",
    "energyContributions_model.compute_energy(cellmap_init)"
   ]
  },
  {
   "cell_type": "code",
   "execution_count": null,
   "id": "0934a44d-0b45-441d-913b-6aed5a8d5fe9",
   "metadata": {},
   "outputs": [],
   "source": [
    "## This only works if you are in Linux and build the current branch\n",
    "auxFunctions.create_frames(history_H, './results', edge={'color':'black'})"
   ]
  }
 ],
 "metadata": {
  "kernelspec": {
   "display_name": "Python 3 (ipykernel)",
   "language": "python",
   "name": "python3"
  },
  "language_info": {
   "codemirror_mode": {
    "name": "ipython",
    "version": 3
   },
   "file_extension": ".py",
   "mimetype": "text/x-python",
   "name": "python",
   "nbconvert_exporter": "python",
   "pygments_lexer": "ipython3",
   "version": "3.8.18"
  }
 },
 "nbformat": 4,
 "nbformat_minor": 5
}
