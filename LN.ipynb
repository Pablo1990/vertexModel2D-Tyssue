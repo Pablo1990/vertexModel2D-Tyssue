{
 "cells": [
  {
   "cell_type": "code",
   "execution_count": 26,
   "id": "11153f17-e347-4db0-a1a8-0e47868df762",
   "metadata": {},
   "outputs": [],
   "source": [
    "from tyssue import Sheet\n",
    "\n",
    "from tyssue import PlanarGeometry as geom\n",
    "\n",
    "from tyssue.draw import sheet_view"
   ]
  },
  {
   "cell_type": "code",
   "execution_count": 27,
   "id": "6749be7f-a295-4e9c-9b2c-338f1f892376",
   "metadata": {},
   "outputs": [],
   "source": [
    "lymphNode = Sheet.planar_sheet_2d( \n",
    "    '2D',\n",
    "    nx=5, \n",
    "    ny=7, \n",
    "    distx=1, \n",
    "    disty=1\n",
    ")\n",
    "\n",
    "geom.update_all(cellmap)"
   ]
  },
  {
   "cell_type": "code",
   "execution_count": 28,
   "id": "0888b282-c02d-496f-8b91-0e4f23e84d90",
   "metadata": {},
   "outputs": [],
   "source": [
    "lymphNode.update_specs({\"edge\": {\"tension\": 1.7}},reset=True)"
   ]
  },
  {
   "cell_type": "code",
   "execution_count": null,
   "id": "a7220ce3-81c7-4698-9414-9cdc39a97486",
   "metadata": {},
   "outputs": [],
   "source": []
  },
  {
   "cell_type": "code",
   "execution_count": 29,
   "id": "71f54bb7-233f-4b48-a160-724704812dda",
   "metadata": {},
   "outputs": [],
   "source": [
    "import sys\n",
    "import pandas as pd\n",
    "import numpy as np\n",
    "import json\n",
    "import matplotlib.pylab as plt\n",
    "%matplotlib inline\n",
    "\n",
    "from scipy import optimize\n",
    "\n",
    "from tyssue import Sheet, config\n",
    "from tyssue import SheetGeometry as geom\n",
    "from tyssue.dynamics import effectors, model_factory\n",
    "from tyssue.draw import sheet_view\n",
    "from tyssue.draw.plt_draw import plot_forces\n",
    "from tyssue.io import hdf5"
   ]
  },
  {
   "cell_type": "code",
   "execution_count": 30,
   "id": "4da4ab46-7683-47e8-9d83-8296697fb356",
   "metadata": {},
   "outputs": [],
   "source": [
    "model = model_factory([effectors.LineTension,effectors.FaceContractility, effectors.FaceAreaElasticity])"
   ]
  },
  {
   "cell_type": "code",
   "execution_count": 31,
   "id": "26826b22-41ec-4684-9dea-9cf04760228c",
   "metadata": {},
   "outputs": [
    {
     "data": {
      "text/plain": [
       "{'cell': {},\n",
       " 'face': {'is_alive': 1,\n",
       "  'perimeter': 1.0,\n",
       "  'contractility': 1.0,\n",
       "  'area': 1.0,\n",
       "  'area_elasticity': 1.0,\n",
       "  'prefered_area': 1.0},\n",
       " 'edge': {'is_active': 1,\n",
       "  'line_tension': 1.0,\n",
       "  'sub_area': 0.16666666666666666},\n",
       " 'vert': {},\n",
       " 'settings': {'nrj_norm_factor': 1.0}}"
      ]
     },
     "execution_count": 31,
     "metadata": {},
     "output_type": "execute_result"
    }
   ],
   "source": [
    "model.specs"
   ]
  },
  {
   "cell_type": "code",
   "execution_count": 36,
   "id": "1e592d17-1c49-4cac-a218-0fb4137b0b66",
   "metadata": {},
   "outputs": [
    {
     "name": "stderr",
     "output_type": "stream",
     "text": [
      "Reseting column is_alive of the face dataset with new specs\n",
      "Reseting column perimeter of the face dataset with new specs\n",
      "Reseting column area of the face dataset with new specs\n"
     ]
    }
   ],
   "source": [
    "lymphNode.update_specs(model.specs, reset=True)"
   ]
  },
  {
   "cell_type": "code",
   "execution_count": null,
   "id": "26528c3b-2c7d-43fc-b351-d34326e106ce",
   "metadata": {},
   "outputs": [],
   "source": []
  }
 ],
 "metadata": {
  "kernelspec": {
   "display_name": "Python 3",
   "language": "python",
   "name": "python3"
  },
  "language_info": {
   "codemirror_mode": {
    "name": "ipython",
    "version": 3
   },
   "file_extension": ".py",
   "mimetype": "text/x-python",
   "name": "python",
   "nbconvert_exporter": "python",
   "pygments_lexer": "ipython3",
   "version": "3.9.12"
  }
 },
 "nbformat": 4,
 "nbformat_minor": 5
}
