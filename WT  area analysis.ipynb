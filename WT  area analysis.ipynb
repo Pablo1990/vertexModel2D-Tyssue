{
 "cells": [
  {
   "cell_type": "code",
   "execution_count": 9,
   "id": "0c6a4be0-2d9d-467d-a674-69b424f2fadb",
   "metadata": {},
   "outputs": [],
   "source": [
    "import pandas as pd\n",
    "import matplotlib.pyplot as plt"
   ]
  },
  {
   "cell_type": "code",
   "execution_count": 10,
   "id": "f1992780-c32f-4ae6-a1c6-86cdc9839c0b",
   "metadata": {},
   "outputs": [],
   "source": [
    "T_cell_area = pd.read_csv('../Data/Area histogram.csv')"
   ]
  },
  {
   "cell_type": "code",
   "execution_count": 25,
   "id": "45ce7c32-c3aa-48d4-8eea-e65e1a3886df",
   "metadata": {},
   "outputs": [
    {
     "data": {
      "text/plain": [
       "0         159.403\n",
       "1         371.007\n",
       "2          86.386\n",
       "3          74.927\n",
       "4          95.235\n",
       "           ...   \n",
       "124876        NaN\n",
       "124877        NaN\n",
       "124878        NaN\n",
       "124879        NaN\n",
       "124880        NaN\n",
       "Name: Area, Length: 124881, dtype: float64"
      ]
     },
     "execution_count": 25,
     "metadata": {},
     "output_type": "execute_result"
    }
   ],
   "source": [
    "T_cell_area[\"Area\"]"
   ]
  },
  {
   "cell_type": "code",
   "execution_count": 20,
   "id": "42948a42-dd31-4738-9141-09722846d52b",
   "metadata": {},
   "outputs": [],
   "source": [
    "normalised_T_cell_area = T_cell_area[\"Area\"]/max(T_cell_area[\"Area\"])"
   ]
  },
  {
   "cell_type": "code",
   "execution_count": 21,
   "id": "60e1ac71-f92e-44c8-980a-52a64dd32d0b",
   "metadata": {},
   "outputs": [
    {
     "data": {
      "text/plain": [
       "(array([170., 139.,  93.,  37.,  29.,  18.,  10.,   3.,   0.,   2.]),\n",
       " array([0.01351425, 0.11216282, 0.2108114 , 0.30945997, 0.40810855,\n",
       "        0.50675712, 0.6054057 , 0.70405427, 0.80270285, 0.90135142,\n",
       "        1.        ]),\n",
       " <BarContainer object of 10 artists>)"
      ]
     },
     "execution_count": 21,
     "metadata": {},
     "output_type": "execute_result"
    },
    {
     "data": {
      "image/png": "[encoded data removed]",
      "text/plain": [
       "<Figure size 432x288 with 1 Axes>"
      ]
     },
     "metadata": {
      "needs_background": "light"
     },
     "output_type": "display_data"
    }
   ],
   "source": [
    "plt.hist(normalised_T_cell_area)"
   ]
  },
  {
   "cell_type": "code",
   "execution_count": 27,
   "id": "8bd29f24-2e61-4e66-971b-52d5b460eefc",
   "metadata": {},
   "outputs": [
    {
     "data": {
      "text/plain": [
       "(array([83., 87., 75., 64., 58., 35., 19., 18., 16., 13., 10.,  8.,  8.,\n",
       "         2.,  3.,  0.,  0.,  0.,  0.,  2.]),\n",
       " array([0.01351425, 0.06283854, 0.11216282, 0.16148711, 0.2108114 ,\n",
       "        0.26013569, 0.30945997, 0.35878426, 0.40810855, 0.45743284,\n",
       "        0.50675712, 0.55608141, 0.6054057 , 0.65472999, 0.70405427,\n",
       "        0.75337856, 0.80270285, 0.85202714, 0.90135142, 0.95067571,\n",
       "        1.        ]),\n",
       " <BarContainer object of 20 artists>)"
      ]
     },
     "execution_count": 27,
     "metadata": {},
     "output_type": "execute_result"
    },
    {
     "data": {
      "image/png": "[encoded data removed]",
      "text/plain": [
       "<Figure size 432x288 with 1 Axes>"
      ]
     },
     "metadata": {
      "needs_background": "light"
     },
     "output_type": "display_data"
    }
   ],
   "source": [
    "plt.hist(normalised_T_cell_area, bins =20 )"
   ]
  },
  {
   "cell_type": "code",
   "execution_count": 18,
   "id": "7455cde4-6576-4f74-b3b9-0c5c15ec0bd4",
   "metadata": {},
   "outputs": [
    {
     "data": {
      "text/plain": [
       "588.786"
      ]
     },
     "execution_count": 18,
     "metadata": {},
     "output_type": "execute_result"
    }
   ],
   "source": [
    "max(T_cell_area[\"Area\"])"
   ]
  },
  {
   "cell_type": "code",
   "execution_count": null,
   "id": "9010a90e-e635-43ed-966d-eee64952fa1a",
   "metadata": {},
   "outputs": [],
   "source": []
  }
 ],
 "metadata": {
  "kernelspec": {
   "display_name": "Python 3",
   "language": "python",
   "name": "python3"
  },
  "language_info": {
   "codemirror_mode": {
    "name": "ipython",
    "version": 3
   },
   "file_extension": ".py",
   "mimetype": "text/x-python",
   "name": "python",
   "nbconvert_exporter": "python",
   "pygments_lexer": "ipython3",
   "version": "3.9.12"
  }
 },
 "nbformat": 4,
 "nbformat_minor": 5
}
