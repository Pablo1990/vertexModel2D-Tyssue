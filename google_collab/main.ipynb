{
 "cells": [
  {
   "cell_type": "code",
   "execution_count": null,
   "id": "O65ThAv1P3zN",
   "metadata": {
    "id": "O65ThAv1P3zN"
   },
   "outputs": [],
   "source": [
    "!pip install numpy scipy matplotlib pandas jupyter notebook quantities ipywidgets pythreejs ipyvolume vispy tyssue"
   ]
  },
  {
   "cell_type": "code",
   "execution_count": null,
   "id": "ujPV7sjLP5RN",
   "metadata": {
    "id": "ujPV7sjLP5RN"
   },
   "outputs": [],
   "source": [
    "# UPLOAD THIS FILES FROM THE FOLDER ON GITHUB https://github.com/Pablo1990/vertexModel2D-Tyssue/blob/main/google_collab/\n",
    "# TO GOOGLE COLLAB VIA UPLOAD.\n",
    "%run auxFunctions.py\n",
    "%run brownianMotion.py\n",
    "%run inputMechanicalParameters.py\n",
    "%run vertexModel.py"
   ]
  },
  {
   "cell_type": "code",
   "execution_count": 4,
   "id": "8d0dae41-39fe-494b-a67b-c2029d9705a0",
   "metadata": {
    "id": "8d0dae41-39fe-494b-a67b-c2029d9705a0"
   },
   "outputs": [],
   "source": [
    "import warnings\n",
    "warnings.simplefilter(action='ignore', category=FutureWarning)\n",
    "\n",
    "from tyssue.draw import sheet_view"
   ]
  },
  {
   "cell_type": "code",
   "execution_count": null,
   "id": "5f29f35f-ef29-4b15-ad99-260d0a92c31c",
   "metadata": {
    "id": "5f29f35f-ef29-4b15-ad99-260d0a92c31c"
   },
   "outputs": [],
   "source": [
    "# Initialize Model\n",
    "[cellmap_init, geom, energyContributions_model] = initialize()\n",
    "\n",
    "# Update mechanical parameters\n",
    "cellmap_init = update(cellmap_init)\n",
    "\n",
    "# Initial stage\n",
    "energyContributions_model.compute_energy(cellmap_init)"
   ]
  },
  {
   "cell_type": "code",
   "execution_count": null,
   "id": "c82b11cb-b2f1-4f5f-80e4-f374842cf6be",
   "metadata": {
    "id": "c82b11cb-b2f1-4f5f-80e4-f374842cf6be"
   },
   "outputs": [],
   "source": [
    "# RUN\n",
    "[cellmap_H, geom, model_H, history_H] = solveEuler(cellmap_init, geom, energyContributions_model, endTime = 100)"
   ]
  },
  {
   "cell_type": "code",
   "execution_count": null,
   "id": "c8f6d114-3658-4a70-923f-d2dd76a323eb",
   "metadata": {
    "id": "c8f6d114-3658-4a70-923f-d2dd76a323eb"
   },
   "outputs": [],
   "source": [
    "cellmap_H.edge_df[\"color_edges\"] = cellmap_H.edge_df['length']/(max(cellmap_H.edge_df['length']))\n",
    "cellmap_H.face_df[\"color_edges\"] = cellmap_H.face_df['area']/(max(cellmap_H.face_df['area']))\n",
    "\n",
    "## https://tyssue.readthedocs.io/en/latest/notebooks/02-Visualization.html\n",
    "specs = {\n",
    "    'face': {\n",
    "        'visible': True,\n",
    "        'color': cellmap_H.face_df[\"color_edges\"],\n",
    "    },\n",
    "    'edge': {\n",
    "        'visible': True,\n",
    "        'color': cellmap_H.edge_df[\"color_edges\"],\n",
    "        'colormap':'Greys',\n",
    "        'width': 1,\n",
    "    },\n",
    "    'vert': {\n",
    "        'visible': True,\n",
    "        's': 5,\n",
    "    }\n",
    "}\n",
    "fig, ax = sheet_view(cellmap_H, **specs)\n",
    "energyContributions_model.compute_energy(cellmap_init)"
   ]
  }
 ],
 "metadata": {
  "colab": {
   "provenance": []
  },
  "kernelspec": {
   "display_name": "Python 3 (ipykernel)",
   "language": "python",
   "name": "python3"
  },
  "language_info": {
   "codemirror_mode": {
    "name": "ipython",
    "version": 3
   },
   "file_extension": ".py",
   "mimetype": "text/x-python",
   "name": "python",
   "nbconvert_exporter": "python",
   "pygments_lexer": "ipython3",
   "version": "3.12.0"
  }
 },
 "nbformat": 4,
 "nbformat_minor": 5
}
